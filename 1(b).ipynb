{
 "cells": [
  {
   "cell_type": "code",
   "execution_count": 1,
   "id": "e34fe9f0",
   "metadata": {},
   "outputs": [],
   "source": [
    "import pandas as pd\n",
    "import matplotlib.pyplot as plt\n",
    "%matplotlib inline\n",
    "import seaborn as sns\n",
    "sns.set_theme()"
   ]
  },
  {
   "cell_type": "code",
   "execution_count": 2,
   "id": "61519774",
   "metadata": {},
   "outputs": [],
   "source": [
    "E_commerce_data = pd.read_csv(\"C:\\\\Users\\\\User\\\\Documents\\\\PDS_PROJ_PIC\\\\ECOMMERCE.csv\")"
   ]
  },
  {
   "cell_type": "code",
   "execution_count": 3,
   "id": "de5b3476",
   "metadata": {},
   "outputs": [],
   "source": [
    "E_commerce_data = E_commerce_data.rename({\"Highest Educational Qualification\":\"Qualification\",\n",
    "                                         \"Which e-commerce sites you prefer for buying electronics product?\":\"Electronic_Sites\"}, axis = 1)"
   ]
  },
  {
   "cell_type": "code",
   "execution_count": 4,
   "id": "d2af6e93",
   "metadata": {},
   "outputs": [],
   "source": [
    "data =  pd.DataFrame(columns=[\"Gender\", \"Electronic_Sites\"])"
   ]
  },
  {
   "cell_type": "code",
   "execution_count": 5,
   "id": "f865490a",
   "metadata": {},
   "outputs": [],
   "source": [
    "data.Gender = E_commerce_data.Gender\n",
    "data.Electronic_Sites = E_commerce_data.Electronic_Sites"
   ]
  },
  {
   "cell_type": "code",
   "execution_count": 6,
   "id": "a3182ab9",
   "metadata": {},
   "outputs": [],
   "source": [
    "Male = data[data.Gender.str.startswith('M')]; Male\n",
    "Female = data[data.Gender.str.startswith('F')]"
   ]
  },
  {
   "cell_type": "code",
   "execution_count": 7,
   "id": "d80d0524",
   "metadata": {},
   "outputs": [],
   "source": [
    "df = pd.DataFrame(Male.Electronic_Sites.value_counts()); df\n",
    "df1 = pd.DataFrame(Female.Electronic_Sites.value_counts())"
   ]
  },
  {
   "cell_type": "code",
   "execution_count": 8,
   "id": "c3392698",
   "metadata": {},
   "outputs": [],
   "source": [
    "Websites = list(df.index); Websites\n",
    "websites1 = list(df1.index)"
   ]
  },
  {
   "cell_type": "code",
   "execution_count": 9,
   "id": "90ce7f5b",
   "metadata": {},
   "outputs": [],
   "source": [
    "clrs = [\"yellow\", \"blue\", \"green\"]\n",
    "clrs1 = [\"yellow\", \"blue\", \"magenta\", \"orange\", \"cyan\"]"
   ]
  },
  {
   "cell_type": "code",
   "execution_count": 10,
   "id": "13ed65c3",
   "metadata": {},
   "outputs": [],
   "source": [
    "total = sum(df.Electronic_Sites); total\n",
    "total1 = sum(df1.Electronic_Sites)"
   ]
  },
  {
   "cell_type": "code",
   "execution_count": 11,
   "id": "74e57169",
   "metadata": {},
   "outputs": [],
   "source": [
    "value = list((df.Electronic_Sites)*(100/total)); value\n",
    "value1 = list((df1.Electronic_Sites)*(100/total1));"
   ]
  },
  {
   "cell_type": "code",
   "execution_count": 12,
   "id": "1366aab8",
   "metadata": {},
   "outputs": [
    {
     "data": {
      "text/plain": [
       "[58.97435897435898, 39.743589743589745, 1.2820512820512822]"
      ]
     },
     "execution_count": 12,
     "metadata": {},
     "output_type": "execute_result"
    }
   ],
   "source": [
    "value"
   ]
  },
  {
   "cell_type": "code",
   "execution_count": 13,
   "id": "05c5ab4c",
   "metadata": {},
   "outputs": [
    {
     "data": {
      "text/plain": [
       "[52.94117647058824,\n",
       " 29.411764705882355,\n",
       " 8.823529411764707,\n",
       " 5.882352941176471,\n",
       " 2.9411764705882355]"
      ]
     },
     "execution_count": 13,
     "metadata": {},
     "output_type": "execute_result"
    }
   ],
   "source": [
    "value1"
   ]
  },
  {
   "cell_type": "code",
   "execution_count": 14,
   "id": "ac8b4160",
   "metadata": {},
   "outputs": [],
   "source": [
    "exwidth = [0.2,0,0]\n",
    "exwidth1 = [0.2,0.1,0,0,0]"
   ]
  },
  {
   "cell_type": "code",
   "execution_count": 16,
   "id": "93f1f4c7",
   "metadata": {},
   "outputs": [
    {
     "data": {
      "image/png": "[encoded data removed]",
      "text/plain": [
       "<Figure size 432x288 with 2 Axes>"
      ]
     },
     "metadata": {},
     "output_type": "display_data"
    }
   ],
   "source": [
    "f = plt.figure()\n",
    "plt.subplot(1,2,1)\n",
    "plt.pie(value, labels = Websites, startangle=90, explode = exwidth, shadow = True, colors = clrs,\n",
    "       autopct = \"%0.1f%%\")\n",
    "plt.subplot(1,2,2)\n",
    "plt.pie(value1, labels= websites1, startangle=90, explode = exwidth1, shadow=False, colors = clrs1,\n",
    "       autopct = \"%0.1f%%\")\n",
    "f.savefig('1(b).png',facecolor='lightgrey',transparent=True)"
   ]
  },
  {
   "cell_type": "code",
   "execution_count": null,
   "id": "a37ed983",
   "metadata": {},
   "outputs": [],
   "source": []
  }
 ],
 "metadata": {
  "kernelspec": {
   "display_name": "Python 3",
   "language": "python",
   "name": "python3"
  },
  "language_info": {
   "codemirror_mode": {
    "name": "ipython",
    "version": 3
   },
   "file_extension": ".py",
   "mimetype": "text/x-python",
   "name": "python",
   "nbconvert_exporter": "python",
   "pygments_lexer": "ipython3",
   "version": "3.8.8"
  }
 },
 "nbformat": 4,
 "nbformat_minor": 5
}
